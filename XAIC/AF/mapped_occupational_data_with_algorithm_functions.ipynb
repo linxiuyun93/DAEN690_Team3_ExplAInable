{
 "cells": [
  {
   "cell_type": "code",
   "execution_count": 2,
   "id": "c6b4d36f",
   "metadata": {},
   "outputs": [],
   "source": [
    "#Importing nexessary libraries\n",
    "import pandas as pd\n",
    "import spacy"
   ]
  },
  {
   "cell_type": "code",
   "execution_count": 3,
   "id": "aa5d8ee9",
   "metadata": {},
   "outputs": [],
   "source": [
    "# Loading the spaCy model for NLP tasks\n",
    "nlp = spacy.load(\"en_core_web_sm\")"
   ]
  },
  {
   "cell_type": "code",
   "execution_count": 4,
   "id": "644138d1",
   "metadata": {},
   "outputs": [],
   "source": [
    "# Loading the occupational data\n",
    "file_path = '/Users/kiranmaireddy/Desktop/Semester 4/datasets/combined_table2_data_with_industry_new.csv'  \n",
    "df = pd.read_csv(file_path)"
   ]
  },
  {
   "cell_type": "code",
   "execution_count": 5,
   "id": "be94c7cd",
   "metadata": {},
   "outputs": [],
   "source": [
    "# Filtering out rows where the 'Tasks' or 'Detailed Work Activities' column is empty or NaN\n",
    "df = df[(df['Tasks'].notna() & df['Tasks'].str.strip().astype(bool)) | \n",
    "        (df['Detailed Work Activities'].notna() & df['Detailed Work Activities'].str.strip().astype(bool))]"
   ]
  },
  {
   "cell_type": "code",
   "execution_count": 6,
   "id": "eaca7237",
   "metadata": {},
   "outputs": [],
   "source": [
    "# Combining 'Tasks' and 'Detailed Work Activities' columns\n",
    "df['combined_description'] = df['Tasks'].fillna('') + ' ' + df['Detailed Work Activities'].fillna('')"
   ]
  },
  {
   "cell_type": "code",
   "execution_count": 7,
   "id": "650dae30",
   "metadata": {},
   "outputs": [],
   "source": [
    "# Defining keywords for each algorithm function\n",
    "keywords = {\n",
    "    'Descriptive': ['report', 'describe', 'summarize', 'overview', 'aggregate', 'examine', 'analyze', 'characterize', 'detail', 'record', 'inspect', 'measure', 'profile', 'interpret'],\n",
    "    'Assistive': ['recommend', 'suggest', 'assist', 'guide', 'advise', 'support', 'help', 'aid', 'facilitate', 'mentor', 'provide guidance', 'consult', 'counsel'],\n",
    "    'Predictive': ['predict', 'forecast', 'estimate', 'anticipate', 'project', 'envision', 'foresee', 'assess future', 'calculate likelihood', 'trend', 'probability'],\n",
    "    'Prescriptive': ['optimize', 'prescribe', 'decision', 'recommendation', 'determine', 'select', 'direct', 'define', 'advise action', 'choose', 'control', 'regulate', 'enforce'],\n",
    "    'Automation': ['automate', 'operate', 'machine', 'mechanize', 'robot', 'automated', 'self-operating', 'automated process', 'machine learning', 'run automatically', 'self-manage'],\n",
    "    'Support EF': ['manage', 'support', 'execute', 'coordinate', 'supervise', 'maintain', 'organize', 'handle', 'administrate', 'direct', 'conduct', 'facilitate', 'monitor', 'implement', 'oversee']\n",
    "}"
   ]
  },
  {
   "cell_type": "code",
   "execution_count": 8,
   "id": "1e45c81b",
   "metadata": {},
   "outputs": [],
   "source": [
    "# Preprocessing text: Tokenization, lemmatization, and lowercasing\n",
    "def preprocess(text):\n",
    "    doc = nlp(text.lower())\n",
    "    return \" \".join([token.lemma_ for token in doc if not token.is_stop and not token.is_punct])"
   ]
  },
  {
   "cell_type": "code",
   "execution_count": 9,
   "id": "3f398745",
   "metadata": {},
   "outputs": [],
   "source": [
    "# Applying preprocessing to the combined description column\n",
    "df['Polished Description'] = df['combined_description'].apply(preprocess)"
   ]
  },
  {
   "cell_type": "code",
   "execution_count": 12,
   "id": "f9aac0f7",
   "metadata": {},
   "outputs": [],
   "source": [
    "# Defining a relevance threshold\n",
    "RELEVANCE_THRESHOLD = 2 "
   ]
  },
  {
   "cell_type": "code",
   "execution_count": 13,
   "id": "1ddad7da",
   "metadata": {},
   "outputs": [],
   "source": [
    "# Mapping functions based on keyword matching with relevance threshold\n",
    "def map_algorithm_function(description):\n",
    "    scores = {}\n",
    "    \n",
    "    # Calculating scores for each function based on keyword matches\n",
    "    for function, words in keywords.items():\n",
    "        score = sum(description.count(word) for word in words)\n",
    "        if score > 0:\n",
    "            scores[function] = score\n",
    "\n",
    "    # Filtering functions that meet the relevance threshold\n",
    "    relevant_functions = [func for func, score in scores.items() if score >= RELEVANCE_THRESHOLD]\n",
    "    \n",
    "    # Sorting functions by score in descending order\n",
    "    relevant_functions = sorted(relevant_functions, key=lambda x: scores[x], reverse=True)\n",
    "    \n",
    "    # Limiting to a maximum of 3, if more than 3 are available\n",
    "    return relevant_functions[:3] if relevant_functions else ['Unknown']\n"
   ]
  },
  {
   "cell_type": "code",
   "execution_count": 14,
   "id": "2f55e459",
   "metadata": {},
   "outputs": [],
   "source": [
    "# Applying the mapping function to the dataset\n",
    "df['algorithm_functions'] = df['Polished Description'].apply(map_algorithm_function)"
   ]
  },
  {
   "cell_type": "code",
   "execution_count": 15,
   "id": "33fb98a9",
   "metadata": {},
   "outputs": [
    {
     "name": "stdout",
     "output_type": "stream",
     "text": [
      "                                          Occupation  \\\n",
      "0                                            Tellers   \n",
      "1                                New Accounts Clerks   \n",
      "2                             Insurance Underwriters   \n",
      "3                  Insurance Appraisers, Auto Damage   \n",
      "4  Securities, Commodities, and Financial Service...   \n",
      "\n",
      "                                               Tasks  \\\n",
      "0  Balance currency, coin, and checks in cash dra...   \n",
      "1  Perform teller duties as required.Related occu...   \n",
      "2  Examine documents to determine degree of risk ...   \n",
      "3  Evaluate practicality of repair as opposed to ...   \n",
      "4  Make bids or offers to buy or sell securities....   \n",
      "\n",
      "                            Detailed Work Activities  \\\n",
      "0  Verify accuracy of financial or transactional ...   \n",
      "1  Execute sales or other financial transactions....   \n",
      "2  Analyze health-related data.Related occupation...   \n",
      "3  Estimate costs of goods or services.Related oc...   \n",
      "4  Negotiate prices or other sales terms.Related ...   \n",
      "\n",
      "                       algorithm_functions  \n",
      "0     [Descriptive, Support EF, Assistive]  \n",
      "1                [Descriptive, Support EF]  \n",
      "2              [Descriptive, Prescriptive]  \n",
      "3  [Descriptive, Predictive, Prescriptive]  \n",
      "4  [Support EF, Descriptive, Prescriptive]  \n"
     ]
    }
   ],
   "source": [
    "# Displaying a sample of the results\n",
    "print(df[['Occupation', 'Tasks', 'Detailed Work Activities', 'algorithm_functions']].head())"
   ]
  },
  {
   "cell_type": "code",
   "execution_count": 20,
   "id": "084db496",
   "metadata": {},
   "outputs": [],
   "source": [
    "# Save the results to a CSV file\n",
    "output_path = '/Users/kiranmaireddy/Desktop/Semester 4/Result/mapped_occupational_data_with_algorithm_functions.xlsx'  \n",
    "df.to_excel(output_path, index=False)"
   ]
  },
  {
   "cell_type": "code",
   "execution_count": 21,
   "id": "4db62047",
   "metadata": {},
   "outputs": [
    {
     "name": "stdout",
     "output_type": "stream",
     "text": [
      "Mapping done\n"
     ]
    }
   ],
   "source": [
    "print(\"Mapping done\")"
   ]
  },
  {
   "cell_type": "code",
   "execution_count": null,
   "id": "e442a748",
   "metadata": {},
   "outputs": [],
   "source": []
  }
 ],
 "metadata": {
  "kernelspec": {
   "display_name": "Python 3 (ipykernel)",
   "language": "python",
   "name": "python3"
  },
  "language_info": {
   "codemirror_mode": {
    "name": "ipython",
    "version": 3
   },
   "file_extension": ".py",
   "mimetype": "text/x-python",
   "name": "python",
   "nbconvert_exporter": "python",
   "pygments_lexer": "ipython3",
   "version": "3.11.4"
  }
 },
 "nbformat": 4,
 "nbformat_minor": 5
}
