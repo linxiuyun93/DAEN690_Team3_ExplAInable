{
 "cells": [
  {
   "cell_type": "code",
   "execution_count": 2,
   "id": "1996a103",
   "metadata": {},
   "outputs": [],
   "source": [
    "import pandas as pd"
   ]
  },
  {
   "cell_type": "code",
   "execution_count": 3,
   "id": "b6d4b418",
   "metadata": {},
   "outputs": [],
   "source": [
    "# Loading the datasets\n",
    "occupation_data = pd.read_excel('/Users/kiranmaireddy/Desktop/Semester 4/Result/mapped_occupational_data_with_algorithm_functions.xlsx')\n",
    "algorithm_data = pd.read_excel('/Users/kiranmaireddy/Desktop/Semester 4/Result/mapped_algorithm_data_with_AF.xlsx')"
   ]
  },
  {
   "cell_type": "code",
   "execution_count": 4,
   "id": "9e09211d",
   "metadata": {},
   "outputs": [],
   "source": [
    "# Converting algorithm functions columns to sets for easier comparison and matching\n",
    "occupation_data['algorithm_functions'] = occupation_data['algorithm_functions'].apply(lambda x: eval(x) if isinstance(x, str) else [])\n",
    "algorithm_data['algorithm_functions'] = algorithm_data['algorithm_functions'].apply(lambda x: eval(x) if isinstance(x, str) else [])"
   ]
  },
  {
   "cell_type": "code",
   "execution_count": 5,
   "id": "d6006136",
   "metadata": {},
   "outputs": [],
   "source": [
    "# Exploding the rows in algorithm data so each row represents a single algorithm function\n",
    "algorithm_data_exploded = algorithm_data.explode('algorithm_functions')"
   ]
  },
  {
   "cell_type": "code",
   "execution_count": 6,
   "id": "a0658785",
   "metadata": {},
   "outputs": [],
   "source": [
    "# Performing a left join to match occupation data with algorithm data based on algorithm functions\n",
    "merged_data = pd.merge(\n",
    "    occupation_data.explode('algorithm_functions'),\n",
    "    algorithm_data_exploded,\n",
    "    on='algorithm_functions',\n",
    "    suffixes=('_occupation', '_algorithm'),\n",
    "    how='left'\n",
    ")"
   ]
  },
  {
   "cell_type": "code",
   "execution_count": 7,
   "id": "85ebace4",
   "metadata": {},
   "outputs": [],
   "source": [
    "# Counting the frequency of each algorithm for each algorithm function to compute relevance\n",
    "relevance_scores = merged_data.groupby(['algorithm_functions', 'Algorithm ']).size().reset_index(name='relevance_score')"
   ]
  },
  {
   "cell_type": "code",
   "execution_count": 8,
   "id": "cf0aa179",
   "metadata": {},
   "outputs": [],
   "source": [
    "# Merging relevance scores back into merged data\n",
    "merged_data = pd.merge(merged_data, relevance_scores, on=['algorithm_functions', 'Algorithm '], how='left')"
   ]
  },
  {
   "cell_type": "code",
   "execution_count": 9,
   "id": "6899690b",
   "metadata": {},
   "outputs": [],
   "source": [
    "# Setting a maximum number of algorithms to keep per occupation\n",
    "max_algorithms = 3  "
   ]
  },
  {
   "cell_type": "code",
   "execution_count": 10,
   "id": "0cd6f41e",
   "metadata": {},
   "outputs": [],
   "source": [
    "# Defining a function to select top algorithms based on relevance score\n",
    "def select_top_algorithms(group):\n",
    "    # Sorting algorithms by relevance score in descending order, then by algorithm name as a tiebreaker\n",
    "    top_algorithms = group.sort_values(by='relevance_score', ascending=False).drop_duplicates(subset=['Algorithm ']).head(max_algorithms)\n",
    "    return list(top_algorithms['Algorithm '])"
   ]
  },
  {
   "cell_type": "code",
   "execution_count": 11,
   "id": "6f53a22a",
   "metadata": {},
   "outputs": [
    {
     "name": "stderr",
     "output_type": "stream",
     "text": [
      "/var/folders/j6/_1y5vk8x6k54363n4fvnsss40000gn/T/ipykernel_18232/203886865.py:4: DeprecationWarning: DataFrameGroupBy.apply operated on the grouping columns. This behavior is deprecated, and in a future version of pandas the grouping columns will be excluded from the operation. Either pass `include_groups=False` to exclude the groupings or explicitly select the grouping columns after groupby to silence this warning.\n",
      "  .apply(lambda x: pd.Series({\n"
     ]
    }
   ],
   "source": [
    "# Applying groupby and aggregate with the custom function for algorithm selection\n",
    "grouped_data = (\n",
    "    merged_data.groupby(['Industry', 'Occupation', 'Code', 'Detailed Work Activities'])\n",
    "    .apply(lambda x: pd.Series({\n",
    "        'Combined Algorithm Functions': list(set(x['algorithm_functions'])),\n",
    "        'Algorithms': select_top_algorithms(x)\n",
    "    }))\n",
    "    .reset_index()\n",
    ")\n"
   ]
  },
  {
   "cell_type": "code",
   "execution_count": 12,
   "id": "7ee6b291",
   "metadata": {},
   "outputs": [
    {
     "name": "stdout",
     "output_type": "stream",
     "text": [
      "Merging complete. The relevance-based merged data is saved as 'merged_occupational_and_algorithm_data__with_AF_.xlsx'.\n"
     ]
    }
   ],
   "source": [
    "# Saving the output\n",
    "output_path = '/Users/kiranmaireddy/Desktop/Semester 4/Result/merged_occupational_and_algorithm_data_with_AF_.xlsx'\n",
    "grouped_data.to_excel(output_path, index=False)\n",
    "\n",
    "print(\"Merging complete. The relevance-based merged data is saved as 'merged_occupational_and_algorithm_data__with_AF_.xlsx'.\")"
   ]
  },
  {
   "cell_type": "code",
   "execution_count": null,
   "id": "b4fe9ddc",
   "metadata": {},
   "outputs": [],
   "source": []
  }
 ],
 "metadata": {
  "kernelspec": {
   "display_name": "Python 3 (ipykernel)",
   "language": "python",
   "name": "python3"
  },
  "language_info": {
   "codemirror_mode": {
    "name": "ipython",
    "version": 3
   },
   "file_extension": ".py",
   "mimetype": "text/x-python",
   "name": "python",
   "nbconvert_exporter": "python",
   "pygments_lexer": "ipython3",
   "version": "3.11.4"
  }
 },
 "nbformat": 4,
 "nbformat_minor": 5
}
