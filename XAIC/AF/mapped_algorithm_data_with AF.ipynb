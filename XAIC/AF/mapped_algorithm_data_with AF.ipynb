{
 "cells": [
  {
   "cell_type": "code",
   "execution_count": 2,
   "id": "bed27079",
   "metadata": {},
   "outputs": [],
   "source": [
    "#Importing necessary libraries\n",
    "import pandas as pd\n",
    "import spacy\n",
    "from sklearn.feature_extraction.text import TfidfVectorizer\n",
    "from sklearn.metrics.pairwise import cosine_similarity"
   ]
  },
  {
   "cell_type": "code",
   "execution_count": 3,
   "id": "e4ff6e12",
   "metadata": {},
   "outputs": [],
   "source": [
    "# Loading the Algorithm Data\n",
    "df = pd.read_excel('/Users/kiranmaireddy/Desktop/Semester 4/input/Algorithm Data.xlsx')"
   ]
  },
  {
   "cell_type": "code",
   "execution_count": 4,
   "id": "2fa442c9",
   "metadata": {},
   "outputs": [],
   "source": [
    "# Loading spaCy model\n",
    "nlp = spacy.load(\"en_core_web_sm\")"
   ]
  },
  {
   "cell_type": "code",
   "execution_count": 6,
   "id": "031a9cc7",
   "metadata": {},
   "outputs": [],
   "source": [
    "# Preprocessing text by removing stopwords, punctuation, and applying lemmatization\n",
    "def preprocess(text):\n",
    "    if isinstance(text, str):\n",
    "        doc = nlp(text.lower())\n",
    "        return \" \".join([token.lemma_ for token in doc if not token.is_stop and not token.is_punct])\n",
    "    return \"\"\n",
    "\n",
    "df['Polished Description'] = df['Description'].apply(preprocess)"
   ]
  },
  {
   "cell_type": "code",
   "execution_count": 7,
   "id": "969db0b7",
   "metadata": {},
   "outputs": [],
   "source": [
    "# Defining keywords for each function \n",
    "function_keywords = {\n",
    "    'Descriptive': [\n",
    "        'report', 'describe', 'summarize', 'overview', 'explain', 'analyze', \n",
    "        'characterize', 'detail', 'review', 'monitor', 'examine', 'breakdown', \n",
    "        'inspect', 'interpret', 'identify', 'outline', 'list', 'profile', 'survey'\n",
    "    ],\n",
    "    'Assistive': [\n",
    "        'recommend', 'suggest', 'advise', 'help', 'support', 'facilitate', \n",
    "        'guide', 'assist', 'recommendation', 'aid', 'ease', 'prompt', 'stimulate',\n",
    "        'counsel', 'empower', 'enhance', 'contribute', 'promote', 'improve', 'bolster'\n",
    "    ],\n",
    "    'Predictive': [\n",
    "        'predict', 'forecast', 'future', 'estimate', 'anticipate', 'project', \n",
    "        'forecasting', 'trend', 'extrapolate', 'infer', 'speculate', 'calculate',\n",
    "        'predictive analysis', 'projection', 'risk assessment', 'forecasting trends', \n",
    "        'predictive model', 'outlook'\n",
    "    ],\n",
    "    'Prescriptive': [\n",
    "        'decision', 'recommendation', 'optimize', 'determine', 'select', 'prescribe', \n",
    "        'solution', 'advise', 'recommend', 'guide action', 'best course', 'strategy',\n",
    "        'advise on action', 'directive', 'prescription', 'strategy optimization', \n",
    "        'best decision', 'optimum'\n",
    "    ],\n",
    "    'Automation': [\n",
    "        'automate', 'operate', 'mechanize', 'machine', 'robot', 'routine', \n",
    "        'automated', 'automatic', 'streamline', 'process automation', 'systematic',\n",
    "        'computerize', 'automatic execution', 'self-operating', 'mechanization', \n",
    "        'workflow', 'routine task', 'repetition'\n",
    "    ],\n",
    "    'Support EF': [\n",
    "        'manage', 'support', 'execute', 'coordinate', 'supervise', 'maintain', \n",
    "        'organize', 'administer', 'oversee', 'implement', 'direct', 'facilitate', \n",
    "        'collaborate', 'control', 'oversee implementation', 'ensure execution', \n",
    "        'backup', 'manage operation', 'assist'\n",
    "    ]\n",
    "}"
   ]
  },
  {
   "cell_type": "code",
   "execution_count": 8,
   "id": "7f1f83c3",
   "metadata": {},
   "outputs": [],
   "source": [
    "# Defining a function to map algorithm functions based on keywords and similarity with a high threshold\n",
    "def map_algorithm_function(text):\n",
    "    text = text.lower()\n",
    "    matched_functions = []\n",
    "\n",
    "    # Keyword matching\n",
    "    for function, keywords in function_keywords.items():\n",
    "        if any(keyword in text for keyword in keywords):\n",
    "            matched_functions.append(function)\n",
    "\n",
    "    # If no functions are matched via keywords, use similarity-based fallback\n",
    "    if not matched_functions:\n",
    "        tfidf = TfidfVectorizer()\n",
    "        tfidf_matrix = tfidf.fit_transform([text] + list(function_keywords.keys()))\n",
    "        similarities = cosine_similarity(tfidf_matrix[0:1], tfidf_matrix[1:]).flatten()\n",
    "\n",
    "        # Setting  a high similarity threshold and find matches above it\n",
    "        threshold = 0.75\n",
    "        matched_functions = [list(function_keywords.keys())[i] for i, score in enumerate(similarities) if score > threshold]\n",
    "\n",
    "    # Limiting to a maximum of 3 functions\n",
    "    return matched_functions[:3] if matched_functions else []"
   ]
  },
  {
   "cell_type": "code",
   "execution_count": 9,
   "id": "2baae5d9",
   "metadata": {},
   "outputs": [],
   "source": [
    "# Applying mapping function\n",
    "df['algorithm_functions'] = df['Polished Description'].apply(map_algorithm_function)"
   ]
  },
  {
   "cell_type": "code",
   "execution_count": 10,
   "id": "a64c3619",
   "metadata": {},
   "outputs": [],
   "source": [
    "# Removing rows with empty lists in 'algorithm_functions'\n",
    "df = df[df['algorithm_functions'].map(len) > 0]"
   ]
  },
  {
   "cell_type": "code",
   "execution_count": 11,
   "id": "392f2e7d",
   "metadata": {},
   "outputs": [
    {
     "name": "stdout",
     "output_type": "stream",
     "text": [
      "                                          Description  \\\n",
      "0   The naive Bayes algorithm is based on the Baye...   \n",
      "1    Linear Discriminant Analysis (LDA) is a linea...   \n",
      "2   Another common probabilistic based statistical...   \n",
      "4    In machine learning, another common technique...   \n",
      "5   Decision tree (DT) is a well known non-paramet...   \n",
      "..                                                ...   \n",
      "61  Another common association rule learning techn...   \n",
      "62  RARM (Rapid Association Rule Mining) is an alg...   \n",
      "63  This algorithm effectively identifies the redu...   \n",
      "64  ONE R (One Rule) is a simple classification al...   \n",
      "65  Zero R (Zero Rule) is a simple classification ...   \n",
      "\n",
      "                        algorithm_functions  \n",
      "0                              [Predictive]  \n",
      "1                [Predictive, Prescriptive]  \n",
      "2     [Descriptive, Predictive, Automation]  \n",
      "4       [Assistive, Automation, Support EF]  \n",
      "5                [Prescriptive, Support EF]  \n",
      "..                                      ...  \n",
      "61                           [Prescriptive]  \n",
      "62                           [Prescriptive]  \n",
      "63                            [Descriptive]  \n",
      "64  [Descriptive, Predictive, Prescriptive]  \n",
      "65                  [Assistive, Predictive]  \n",
      "\n",
      "[61 rows x 2 columns]\n"
     ]
    }
   ],
   "source": [
    "# Displaying results\n",
    "print(df[['Description', 'algorithm_functions']])"
   ]
  },
  {
   "cell_type": "code",
   "execution_count": 18,
   "id": "3e5dbd94",
   "metadata": {},
   "outputs": [],
   "source": [
    "# Saving to Excel\n",
    "df.to_excel('/Users/kiranmaireddy/Desktop/Semester 4/Result/mapped_algorithm_data_with_AF.xlsx', index=False)"
   ]
  },
  {
   "cell_type": "code",
   "execution_count": 19,
   "id": "3bae30bc",
   "metadata": {},
   "outputs": [
    {
     "name": "stdout",
     "output_type": "stream",
     "text": [
      "Mapping done\n"
     ]
    }
   ],
   "source": [
    "print(\"Mapping done\")"
   ]
  },
  {
   "cell_type": "code",
   "execution_count": null,
   "id": "62f4e76d",
   "metadata": {},
   "outputs": [],
   "source": []
  }
 ],
 "metadata": {
  "kernelspec": {
   "display_name": "Python 3 (ipykernel)",
   "language": "python",
   "name": "python3"
  },
  "language_info": {
   "codemirror_mode": {
    "name": "ipython",
    "version": 3
   },
   "file_extension": ".py",
   "mimetype": "text/x-python",
   "name": "python",
   "nbconvert_exporter": "python",
   "pygments_lexer": "ipython3",
   "version": "3.11.4"
  }
 },
 "nbformat": 4,
 "nbformat_minor": 5
}
